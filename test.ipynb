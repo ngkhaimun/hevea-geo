{
 "cells": [
  {
   "cell_type": "code",
   "execution_count": null,
   "metadata": {
    "vscode": {
     "languageId": "plaintext"
    }
   },
   "outputs": [],
   "source": [
    "from shapely.geometry import Polygon"
   ]
  },
  {
   "cell_type": "code",
   "execution_count": null,
   "metadata": {
    "vscode": {
     "languageId": "plaintext"
    }
   },
   "outputs": [],
   "source": []
  },
  {
   "cell_type": "code",
   "execution_count": null,
   "metadata": {
    "vscode": {
     "languageId": "plaintext"
    }
   },
   "outputs": [],
   "source": [
    "\n",
    "\n",
    "def overlap_percentage(outer_polygon, inner_polygon):\n",
    "    \"\"\"Calculates the percentage of a polygon that overlaps with another polygon.\"\"\"\n",
    "\n",
    "    outer_polygon = Polygon(outer_polygon)\n",
    "    inner_polygon = Polygon(inner_polygon)\n",
    "\n",
    "    ratio = outer_polygon.intersection(inner_polygon).area / inner_polygon.area\n",
    "    return round(ratio * 100, 2)\n",
    "\n",
    "outer_poly = [(0, 0), (0, 2), (2, 2), (2, 0)]\n",
    "inner_poly = [(1, 1), (1, 3), (3, 3), (3, 1)]\n",
    "print(overlap_percentage(outer_poly, inner_poly))\n"
   ]
  }
 ],
 "metadata": {
  "language_info": {
   "name": "python"
  }
 },
 "nbformat": 4,
 "nbformat_minor": 2
}
